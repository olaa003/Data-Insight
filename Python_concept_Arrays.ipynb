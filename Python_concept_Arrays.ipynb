{
 "cells": [
  {
   "cell_type": "markdown",
   "id": "24558a68-26e8-4fbc-be28-b7511f6a69d0",
   "metadata": {},
   "source": [
    "# Python concept: Arrays"
   ]
  },
  {
   "cell_type": "code",
   "execution_count": 14,
   "id": "3a1703af-01bd-445c-a524-cd739962e24a",
   "metadata": {},
   "outputs": [],
   "source": [
    "#creating an array, some simple ways\n",
    "import numpy as np\n",
    "\n",
    "data=np.empty((6,2)) #returns an array 6,2 without initializing entries\n",
    "data2=np.zeros(5) #creating an array full of zeros with 5 elements called data2\n",
    "data3= np.ones(4) #creating an array full of ones with 4 elements called data3"
   ]
  },
  {
   "cell_type": "code",
   "execution_count": 19,
   "id": "70f47d3e-0b79-43b2-a57c-beb8bb6dccc1",
   "metadata": {},
   "outputs": [
    {
     "data": {
      "text/plain": [
       "array([1.06099790e-312, 9.54898106e-313, 1.03977794e-312, 1.18831764e-312,\n",
       "       9.76118064e-313, 1.90979621e-312])"
      ]
     },
     "execution_count": 19,
     "metadata": {},
     "output_type": "execute_result"
    }
   ],
   "source": [
    "# carrying out simple operations on an array (slicing)\n",
    "#Numpy arrays make use of zero indexing, meaning the first index start from zero. in indexing the row comes first then the column\n",
    "\n",
    "data[0] #returns the first row\n",
    "data[:,1] #returns all rows on the secons column"
   ]
  },
  {
   "cell_type": "code",
   "execution_count": 21,
   "id": "f8e191ca-11ee-491d-902f-e1578ca36e67",
   "metadata": {},
   "outputs": [
    {
     "data": {
      "text/plain": [
       "array([[1.01855798e-312, 1.06099790e-312],\n",
       "       [1.01855798e-312, 9.54898106e-313],\n",
       "       [1.06099790e-312, 1.03977794e-312],\n",
       "       [1.23075756e-312, 1.18831764e-312],\n",
       "       [1.12465777e-312, 9.76118064e-313],\n",
       "       [1.16709769e-312, 1.90979621e-312]])"
      ]
     },
     "execution_count": 21,
     "metadata": {},
     "output_type": "execute_result"
    }
   ],
   "source": [
    "# array attributes\n",
    "data.shape #gives information on array shape\n",
    "data.dtype #gives information on array data type\n",
    "data.flags #gives information on memory layout\n",
    "data.T #gives the transpose of the array\n",
    "data.real #gives real part of the array"
   ]
  },
  {
   "cell_type": "code",
   "execution_count": null,
   "id": "122fbad8-f14b-4ed6-9cf7-b44ade29a5cd",
   "metadata": {},
   "outputs": [],
   "source": []
  }
 ],
 "metadata": {
  "kernelspec": {
   "display_name": "Python 3 (ipykernel)",
   "language": "python",
   "name": "python3"
  },
  "language_info": {
   "codemirror_mode": {
    "name": "ipython",
    "version": 3
   },
   "file_extension": ".py",
   "mimetype": "text/x-python",
   "name": "python",
   "nbconvert_exporter": "python",
   "pygments_lexer": "ipython3",
   "version": "3.9.7"
  }
 },
 "nbformat": 4,
 "nbformat_minor": 5
}
