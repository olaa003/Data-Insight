{
 "cells": [
  {
   "cell_type": "markdown",
   "id": "155d2135-9b3d-45f6-b1f9-649287736f95",
   "metadata": {},
   "source": [
    "# Python concept: Functions"
   ]
  },
  {
   "cell_type": "code",
   "execution_count": 1,
   "id": "cbf833c6-cdda-44a1-9c9a-880b6c5c9cae",
   "metadata": {},
   "outputs": [
    {
     "name": "stdin",
     "output_type": "stream",
     "text": [
      " olawumi\n"
     ]
    }
   ],
   "source": [
    "# A simple function to greet a user after entering their username\n",
    "\n",
    "username=input()\n",
    "\n",
    "def greet(username):\n",
    "    print('hello '+username)\n",
    "    "
   ]
  },
  {
   "cell_type": "code",
   "execution_count": 3,
   "id": "de6afa40-0d16-462c-81c9-9e20b06d8e6d",
   "metadata": {},
   "outputs": [
    {
     "name": "stdout",
     "output_type": "stream",
     "text": [
      "hello olawumi\n"
     ]
    }
   ],
   "source": [
    "greet(username)"
   ]
  },
  {
   "cell_type": "code",
   "execution_count": null,
   "id": "6313e570-0f2b-422e-a15d-45aa8074468e",
   "metadata": {},
   "outputs": [],
   "source": []
  }
 ],
 "metadata": {
  "kernelspec": {
   "display_name": "Python 3 (ipykernel)",
   "language": "python",
   "name": "python3"
  },
  "language_info": {
   "codemirror_mode": {
    "name": "ipython",
    "version": 3
   },
   "file_extension": ".py",
   "mimetype": "text/x-python",
   "name": "python",
   "nbconvert_exporter": "python",
   "pygments_lexer": "ipython3",
   "version": "3.9.7"
  }
 },
 "nbformat": 4,
 "nbformat_minor": 5
}
