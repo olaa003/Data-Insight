{
 "cells": [
  {
   "cell_type": "markdown",
   "id": "e043c51b-7bbd-44c8-b256-5f0f6b1ee6fd",
   "metadata": {
    "tags": []
   },
   "source": [
    "# simple apps with python"
   ]
  },
  {
   "cell_type": "markdown",
   "id": "11de80c0-fab2-46a5-b18c-26fd0eee353b",
   "metadata": {},
   "source": [
    "## Email splitter for separating the username and domain name.\n"
   ]
  },
  {
   "cell_type": "code",
   "execution_count": 2,
   "id": "40630ec6-eb4d-4a36-9c79-0c7e6ff0aa02",
   "metadata": {},
   "outputs": [
    {
     "name": "stdin",
     "output_type": "stream",
     "text": [
      " olaawumi@gmail.com\n"
     ]
    }
   ],
   "source": [
    "email=input()"
   ]
  },
  {
   "cell_type": "code",
   "execution_count": 20,
   "id": "752b2167-d7af-4566-b884-e2babc317b03",
   "metadata": {},
   "outputs": [],
   "source": [
    "def email_splitter(email):\n",
    "    \"\"\"displays the username and domain name\"\"\"\n",
    "    username,domain_name=email.split('@',1)\n",
    "    display('username: '+username)\n",
    "    display('domain_name: '+domain_name)"
   ]
  },
  {
   "cell_type": "code",
   "execution_count": 21,
   "id": "f13a401c-c352-4546-8eeb-8e45af304414",
   "metadata": {},
   "outputs": [
    {
     "data": {
      "text/plain": [
       "'username: olaawumi'"
      ]
     },
     "metadata": {},
     "output_type": "display_data"
    },
    {
     "data": {
      "text/plain": [
       "'domain_name: gmail.com'"
      ]
     },
     "metadata": {},
     "output_type": "display_data"
    }
   ],
   "source": [
    "email_splitter(email)"
   ]
  },
  {
   "cell_type": "markdown",
   "id": "0a122710-83a2-4c86-b48c-909d5bf64fef",
   "metadata": {},
   "source": [
    "## A die roller"
   ]
  },
  {
   "cell_type": "code",
   "execution_count": 27,
   "id": "c3d65c0f-6362-481e-b3d2-4070f89558d5",
   "metadata": {},
   "outputs": [],
   "source": [
    "import numpy as np\n",
    "def roll_die():\n",
    "    \"\"\"It is a simple app that simulates the roll of a die\"\"\"\n",
    "    die=['1','2','3','4','5','6']\n",
    "    roll=np.random.choice(die)\n",
    "    display(roll)"
   ]
  },
  {
   "cell_type": "code",
   "execution_count": 29,
   "id": "cce94cca-2d0e-4265-ac4c-1e30c2311dfd",
   "metadata": {},
   "outputs": [
    {
     "data": {
      "text/plain": [
       "'3'"
      ]
     },
     "metadata": {},
     "output_type": "display_data"
    }
   ],
   "source": [
    "roll_die()"
   ]
  },
  {
   "cell_type": "code",
   "execution_count": null,
   "id": "fcf6a170-4cd3-4680-95da-5f6a6b3857b8",
   "metadata": {},
   "outputs": [],
   "source": []
  }
 ],
 "metadata": {
  "kernelspec": {
   "display_name": "Python 3 (ipykernel)",
   "language": "python",
   "name": "python3"
  },
  "language_info": {
   "codemirror_mode": {
    "name": "ipython",
    "version": 3
   },
   "file_extension": ".py",
   "mimetype": "text/x-python",
   "name": "python",
   "nbconvert_exporter": "python",
   "pygments_lexer": "ipython3",
   "version": "3.9.7"
  }
 },
 "nbformat": 4,
 "nbformat_minor": 5
}
